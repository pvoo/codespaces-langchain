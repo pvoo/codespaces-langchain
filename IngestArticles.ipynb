{
 "cells": [
  {
   "cell_type": "code",
   "execution_count": null,
   "metadata": {},
   "outputs": [],
   "source": [
    "from dotenv import load_dotenv\n",
    "import os\n",
    "import csv\n",
    "from langchain.llms import OpenAI\n",
    "from langchain.embeddings.openai import OpenAIEmbeddings\n",
    "from langchain.embeddings.cohere import CohereEmbeddings\n",
    "from langchain.text_splitter import CharacterTextSplitter\n",
    "from langchain.vectorstores.elastic_vector_search import ElasticVectorSearch\n",
    "from langchain.vectorstores import Chroma\n",
    "from langchain.docstore.document import Document\n",
    "from langchain.prompts import PromptTemplate\n",
    "from langchain.chains.qa_with_sources import load_qa_with_sources_chain\n",
    "from langchain.llms import OpenAI\n",
    "\n",
    "load_dotenv()\n",
    "openai_api_key = os.environ['OPENAI_API_KEY']\n",
    "\n",
    "llm = OpenAI(temperature=0.9)"
   ]
  },
  {
   "cell_type": "code",
   "execution_count": null,
   "metadata": {},
   "outputs": [],
   "source": [
    "\n",
    "csv_file_path = './docs/articles-pages-test.csv'\n",
    "\n",
    "# Read the CSV data\n",
    "data = []\n",
    "with open(csv_file_path, 'r', encoding='utf-8') as csvfile:\n",
    "    csv_reader = csv.DictReader(csvfile, delimiter=',', quotechar='\"')\n",
    "    for row in csv_reader:\n",
    "        data.append(row)\n",
    "\n",
    "# Split the text and add the prefix to the source\n",
    "texts = []\n",
    "sources = []\n",
    "text_splitter = CharacterTextSplitter(chunk_size=2000, chunk_overlap=0)\n",
    "for row in data:\n",
    "    text = row['Body HTML']\n",
    "    source = \"https://tameson.com/pages/\" + row['Handle']\n",
    "    splitted_texts = text_splitter.split_text(text)\n",
    "    texts.extend(splitted_texts)\n",
    "    sources.extend([source] * len(splitted_texts))\n",
    "\n",
    "# Create embeddings and initialize Chroma\n",
    "embeddings = OpenAIEmbeddings()\n",
    "docsearch = Chroma.from_texts(texts, embeddings, metadatas=[{\"source\": src} for src in sources])"
   ]
  },
  {
   "cell_type": "code",
   "execution_count": null,
   "metadata": {},
   "outputs": [],
   "source": [
    "query = \"What is a solenoid valve?\"\n",
    "docs = docsearch.similarity_search(query)\n",
    "\n",
    "chain = load_qa_with_sources_chain(OpenAI(temperature=1), chain_type=\"stuff\")\n",
    "chain({\"input_documents\": docs, \"question\": query}, return_only_outputs=True)"
   ]
  }
 ],
 "metadata": {
  "kernelspec": {
   "display_name": "Python 3",
   "language": "python",
   "name": "python3"
  },
  "language_info": {
   "codemirror_mode": {
    "name": "ipython",
    "version": 3
   },
   "file_extension": ".py",
   "mimetype": "text/x-python",
   "name": "python",
   "nbconvert_exporter": "python",
   "pygments_lexer": "ipython3",
   "version": "3.9.16"
  },
  "orig_nbformat": 4,
  "vscode": {
   "interpreter": {
    "hash": "3ad933181bd8a04b432d3370b9dc3b0662ad032c4dfaa4e4f1596c548f763858"
   }
  }
 },
 "nbformat": 4,
 "nbformat_minor": 2
}
